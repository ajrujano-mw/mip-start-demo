{
 "cells": [
  {
   "cell_type": "markdown",
   "metadata": {},
   "source": [
    "# SoyKing\n",
    "\n",
    "*SoyKing* is a major soy bean producer in Brazil. The company currently\n",
    "has two distribution centers (DC) with demand for many tons of soy bean \n",
    "and three farms with tons of soy bean ready to be shipped.\n",
    "\n",
    "![SoyKing](soyking.png)\n",
    "\n",
    "They need help to decide the most cost-efficient way to do that.\n",
    "The tables below contain all the relevant data.\n",
    "\n",
    "* `supplies`\n",
    "\n",
    "|  Farm ID  |  Availability (tons)  |\n",
    "|:---------:|:---------------------:|\n",
    "|    F1     |          16           |\n",
    "|    F2     |          11           |\n",
    "|    F3     |          23           |\n",
    "\n",
    "* `demands`\n",
    "\n",
    "| DC ID | Demand (tons) |\n",
    "|:-----:|:-------------:|\n",
    "|  D1   |      20       |\n",
    "|  D2   |      25       |\n",
    "\n",
    "* `costs`\n",
    "\n",
    "|  Farm ID  | DC ID | Cost per Ton |\n",
    "|:---------:|:-----:|:------------:|\n",
    "|    F1     |  D1   |      66      |\n",
    "|    F2     |  D1   |      51      |\n",
    "|    F3     |  D1   |      73      |\n",
    "|    F1     |  D2   |      54      |\n",
    "|    F2     |  D2   |      82      |\n",
    "|    F3     |  D2   |      63      |"
   ]
  },
  {
   "cell_type": "markdown",
   "metadata": {},
   "source": [
    "## Formulation\n",
    "This is a generic formulation for the TicTech problem."
   ]
  },
  {
   "cell_type": "markdown",
   "metadata": {},
   "source": [
    "### Input data model\n",
    "\n",
    "#### Sets\n",
    "* $I$ - Set of farms\n",
    "* $J$ - Set of DCs\n",
    "\n",
    "#### Parameters\n",
    "* $s_i$ - Supply (tons) available at farm $i$\n",
    "* $d_j$ - Demand (tons) at DC $j$\n",
    "* $c_{ij}$ - Cost (dollar/ton) to transfer soybean from farm $i$ to DC $j$."
   ]
  },
  {
   "cell_type": "markdown",
   "metadata": {},
   "source": [
    "### Decision Variables\n",
    "\n",
    "- $x_{ij}$\t- Tons of soybean transfered from farm $i$ to DC $j$."
   ]
  },
  {
   "cell_type": "markdown",
   "metadata": {},
   "source": [
    "### Constraints\n",
    "* Capacity of farm $i$:\n",
    "$$\\sum_j x_{ij} \\leq s_i, \\quad \\forall i.$$\n",
    "\n",
    "* Demand of DC $j$:\n",
    "$$\\sum_i x_{ij} \\geq d_j.$$"
   ]
  },
  {
   "cell_type": "markdown",
   "metadata": {},
   "source": [
    "### Objective\n",
    "The objective is to minimize the total transportantion cost.\n",
    "$$\\min{\\sum_{i}\\sum_j c_{ij} x_{ij}}.$$"
   ]
  },
  {
   "cell_type": "markdown",
   "metadata": {},
   "source": [
    "### Final formulation\n",
    "$$\n",
    "\\begin{eqnarray}\n",
    "\\begin{array}{rcl}\n",
    "& \\min & \\sum_{i}\\sum_j c_{ij} x_{ij}\\\\\n",
    "& \\text{s.t.}& \\sum_j x_{ij} \\leq s_i, \\quad \\forall i,\\\\\n",
    "&& \\sum_i x_{ij} \\geq d_j,\\\\\n",
    "&& x_{ij} \\geq 0, \\quad \\forall i, j.\n",
    "\\end{array}\n",
    "\\end{eqnarray}\n",
    "$$"
   ]
  }
 ],
 "metadata": {
  "kernelspec": {
   "display_name": "Python 3 (ipykernel)",
   "language": "python",
   "name": "python3"
  },
  "language_info": {
   "codemirror_mode": {
    "name": "ipython",
    "version": 3
   },
   "file_extension": ".py",
   "mimetype": "text/x-python",
   "name": "python",
   "nbconvert_exporter": "python",
   "pygments_lexer": "ipython3",
   "version": "3.9.5"
  }
 },
 "nbformat": 4,
 "nbformat_minor": 2
}
