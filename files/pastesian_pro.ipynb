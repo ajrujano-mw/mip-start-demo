{
 "cells": [
  {
   "cell_type": "markdown",
   "metadata": {},
   "source": [
    "# Pastesian\n",
    "\n",
    "*Pastesian* is a family-owned pasta factory which is currently\n",
    "planning production of lasagnas for the next 4 months.\n",
    "\n",
    "Lasagnas are prepared and immediately frozen for distribution. \n",
    "They have some freezers in the factory where they can store\n",
    "inventory for several weeks before shipping them to the market.\n",
    "\n",
    "Based on previous years selling, Pastesian expects demand of\n",
    "200, 350, 150, and 250 lasagnas for months 1, 2, 3, and 4,\n",
    "respectively, which must be met exactly. \n",
    "Currently, Pastesian has only 50 lasagnas in eventory. \n",
    "\n",
    "One tricky thing is that labor cost is going to increase over\n",
    "the next months, because the factory is located in a touristic\n",
    "city where there are lots of temporary job opportunities\n",
    "during high season. This translates into a variable production\n",
    "cost of \\\\$5.50, \\\\$7.20, \\\\$8.80, and \\\\$10.90 dollars per lasagna for \n",
    "months 1, 2, 3, and 4, respectively.\n",
    "\n",
    "In addition, electricity charges also varies throughout the \n",
    "season. As a result, the cost for keeping one lasagna in\n",
    "inventory from month 1 to 2 is \\\\$1.30, from month 2 to 3 is\n",
    "\\\\$ 1.95, and from month 3 to 4 is \\\\$2.20.\n",
    "\n",
    "The following table summarizes the data.\n",
    "\n",
    "| Period ID | Production Cost | Inventory Cost | Demand |\n",
    "|:---------:|:---------------:|:--------------:|:------:|\n",
    "|     1     |      5.50       |      1.30      |  200   |\n",
    "|     2     |      7.20       |      1.95      |  350   |\n",
    "|     3     |      8.80       |      2.20      |  150   |\n",
    "|     4     |      10.90      |       --       |  250   |\n",
    "\n",
    "How should Pastesian plan its operations for these upcoming \n",
    "months assuming that it will end the season with no lasagna\n",
    "in inventory?"
   ]
  },
  {
   "cell_type": "markdown",
   "metadata": {},
   "source": [
    "## Formulation"
   ]
  },
  {
   "cell_type": "markdown",
   "metadata": {},
   "source": [
    "### Input data model\n",
    "\n",
    "#### Sets\n",
    "* $T$ - Set of time periods\n",
    "\n",
    "#### Parameters\n",
    "* $c_t$ - Production cost (dollar/unit) in period $t$\n",
    "* $h_t$ - Inventory holding cost (dollar/unit) in period $t$\n",
    "* $d_t$ - Demand (units) in perido $t$\n",
    "* $oi$ - Opening inventory (units)"
   ]
  },
  {
   "cell_type": "markdown",
   "metadata": {},
   "source": [
    "### Decision Variables\n",
    "The image below illustrates the flow of lasagnas through\n",
    "time.\n",
    "\n",
    "![Pastesian Flow](pastesian_flow.png)\n",
    "\n",
    "In particular, this chart suggests that the decision variables we need to define are the amounts to be produced\n",
    "in each month, and the amounts of inventory to carry over from one month to the next:\n",
    "- $x_t$\t- Number of lasagnas to be produced in period $t$.\n",
    "- $s_t$\t- Number of lasagnas stored from period $t$ to period $t+1$.\n",
    "\n",
    "If we don't want inventory to be held in the last period, we can force $s_t$ for the last period to be zero."
   ]
  },
  {
   "cell_type": "markdown",
   "metadata": {},
   "source": [
    "### Constraints\n",
    "* Flow balance constraint for the first period:\n",
    "$$oi + x_1 = d_1 + s_1.$$\n",
    "\n",
    "* Flow balance constraint for all but first period:\n",
    "$$s_{t-1} + x_t = d_t + s_t.$$"
   ]
  },
  {
   "cell_type": "markdown",
   "metadata": {},
   "source": [
    "### Objective\n",
    "The objective is to minimize the total production and inventory cost.\n",
    "$$\\min{\\sum_t c_t x_t + \\sum_t h_t s_t}.$$\n",
    "\n"
   ]
  },
  {
   "cell_type": "markdown",
   "metadata": {},
   "source": [
    "### Final formulation\n",
    "$$\n",
    "\\begin{eqnarray}\n",
    "\\begin{array}{rcl}\n",
    "& \\min & \\sum_t c_t x_t + \\sum_t h_t s_t\\\\\n",
    "& \\text{s.t.}& oi + x_1 = d_1 + s_1,\\\\\n",
    "&& s_{t-1} + x_t = d_t + s_t,\\\\\n",
    "&& x_t, s_t \\geq 0.\n",
    "\\end{array}\n",
    "\\end{eqnarray}\n",
    "$$"
   ]
  }
 ],
 "metadata": {
  "kernelspec": {
   "display_name": "Python 3 (ipykernel)",
   "language": "python",
   "name": "python3"
  },
  "language_info": {
   "codemirror_mode": {
    "name": "ipython",
    "version": 3
   },
   "file_extension": ".py",
   "mimetype": "text/x-python",
   "name": "python",
   "nbconvert_exporter": "python",
   "pygments_lexer": "ipython3",
   "version": "3.9.5"
  }
 },
 "nbformat": 4,
 "nbformat_minor": 2
}
